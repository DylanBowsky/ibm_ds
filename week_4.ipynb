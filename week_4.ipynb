{
    "cells": [
        {
            "cell_type": "markdown",
            "metadata": {
                "collapsed": true
            },
            "source": "My Jupyter Notebook on IBM Watson Studio"
        },
        {
            "cell_type": "markdown",
            "metadata": {},
            "source": "**Dylan Bowsky**"
        },
        {
            "cell_type": "markdown",
            "metadata": {},
            "source": "Financial analyst"
        },
        {
            "cell_type": "markdown",
            "metadata": {},
            "source": "*I have been in banking for the last 5 years and don't find it is as interesting as working with technology. I believe this is the future and I don't want to be left behind.*"
        },
        {
            "cell_type": "markdown",
            "metadata": {},
            "source": "### The code below will print \"this is my final week in the first course\" ###"
        },
        {
            "cell_type": "code",
            "execution_count": 2,
            "metadata": {},
            "outputs": [
                {
                    "name": "stdout",
                    "output_type": "stream",
                    "text": "This is my final week in the first course\n"
                }
            ],
            "source": "print(\"This is my final week in the first course\")"
        },
        {
            "cell_type": "markdown",
            "metadata": {},
            "source": "--- \n* Learn\n* Trial\n* <mark >Master</mark>  \n---\nLink to my linkedIn https://www.linkedin.com/in/dylan-bowsky-a665a5121/\n\n---\nWe will never ~~fail~~"
        },
        {
            "cell_type": "code",
            "execution_count": null,
            "metadata": {},
            "outputs": [],
            "source": ""
        }
    ],
    "metadata": {
        "kernelspec": {
            "display_name": "Python 3.9",
            "language": "python",
            "name": "python3"
        },
        "language_info": {
            "codemirror_mode": {
                "name": "ipython",
                "version": 3
            },
            "file_extension": ".py",
            "mimetype": "text/x-python",
            "name": "python",
            "nbconvert_exporter": "python",
            "pygments_lexer": "ipython3",
            "version": "3.9.13"
        }
    },
    "nbformat": 4,
    "nbformat_minor": 1
}